{
 "cells": [
  {
   "cell_type": "markdown",
   "metadata": {},
   "source": [
    "## Задание 1"
   ]
  },
  {
   "cell_type": "markdown",
   "metadata": {},
   "source": [
    "Дан список вида:"
   ]
  },
  {
   "cell_type": "code",
   "execution_count": null,
   "metadata": {},
   "outputs": [],
   "source": [
    "data = [\n",
    "    [13, 25, 23, 34],\n",
    "    [45, 32, 44, 47],\n",
    "    [12, 33, 23, 95],\n",
    "    [13, 53, 34, 35]\n",
    "]"
   ]
  },
  {
   "cell_type": "code",
   "execution_count": null,
   "metadata": {},
   "outputs": [],
   "source": [
    "def sum_diag(list):\n",
    "    sum=0.0\n",
    "    for i in range(len(list)):\n",
    "        sum+=float(list[i][i])\n",
    "    return sum\n",
    "\n",
    "result=sum_diag(data)\n",
    "print(result)      "
   ]
  },
  {
   "cell_type": "markdown",
   "metadata": {},
   "source": [
    "Напишите функцию, которая возвращает сумму элементов на диагонали. Т. е. 13+32+23+35.  \n",
    "Список может быть любой длины, но всегда является \"квадратным\" (количество элементов во вложенных списках равно их количеству)."
   ]
  },
  {
   "cell_type": "markdown",
   "metadata": {},
   "source": [
    "## Задание 2"
   ]
  },
  {
   "cell_type": "markdown",
   "metadata": {},
   "source": [
    "Напишите функцию, возвращающую сумму первых n чисел Фибоначчи (для этого вам может понадобится ознакомиться с рекурсией)."
   ]
  },
  {
   "cell_type": "code",
   "execution_count": null,
   "metadata": {},
   "outputs": [],
   "source": [
    "'''Числа Фибоначчи\n",
    "x_0=0\n",
    "x_1=1\n",
    "x_n=x_(n-1)-x_(n-2)'''\n",
    "\n",
    "def fibonachi (n):\n",
    "    x=[0 for i in range(n)]\n",
    "    x[0]=0\n",
    "    x[1]=1\n",
    "    \n",
    "    for i in range(2,n):\n",
    "        x[i]=x[i-1]+x[i-2]\n",
    "    return sum(x)\n",
    "sum_fib=fibonachi(3)\n",
    "print(sum_fib)"
   ]
  },
  {
   "cell_type": "markdown",
   "metadata": {},
   "source": [
    "## Задание 3\n"
   ]
  },
  {
   "cell_type": "markdown",
   "metadata": {},
   "source": [
    "Напишите функцию, преобразующую произвольный список вида ['2018-01-01', 'yandex', 'cpc', 100] (он может быть любой длины) в словарь {'2018-01-01': {'yandex': {'cpc': 100}}}"
   ]
  },
  {
   "cell_type": "code",
   "execution_count": null,
   "metadata": {},
   "outputs": [],
   "source": [
    "input_list=['2018-01-01', 'yandex', 'cpc', 100] \n",
    "def convert_to_dict(input_list):\n",
    "    result=dict()\n",
    "    while len(input_list)>=2:\n",
    "        result.clear()\n",
    "        result[input_list[-2]]=input_list[-1]\n",
    "        key=result.copy()\n",
    "        input_list.pop()\n",
    "        input_list[-1]=key\n",
    "    return result"
   ]
  },
  {
   "cell_type": "code",
   "execution_count": null,
   "metadata": {},
   "outputs": [],
   "source": [
    "print(convert_to_dict(input_list))"
   ]
  },
  {
   "cell_type": "markdown",
   "metadata": {},
   "source": [
    "## Задание 4"
   ]
  },
  {
   "cell_type": "markdown",
   "metadata": {},
   "source": [
    "Вы работаете секретарем и вам постоянно приходят различные документы. Вы должны быть очень внимательны, чтобы не потерять ни один документ. Каталог документов хранится в следующем виде:"
   ]
  },
  {
   "cell_type": "markdown",
   "metadata": {},
   "source": [
    "Перечень полок, на которых находятся документы хранится в следующем виде:"
   ]
  },
  {
   "cell_type": "code",
   "execution_count": null,
   "metadata": {},
   "outputs": [],
   "source": [
    "def command_p(documents):\n",
    "        number_of_doc=input('Введите номер документа:')\n",
    "        for dictionary in documents:\n",
    "            if dictionary['number']==number_of_doc:\n",
    "                result=dictionary['name']\n",
    "                break\n",
    "            result='Данного документа нет в реестре'\n",
    "        return result,documents"
   ]
  },
  {
   "cell_type": "code",
   "execution_count": null,
   "metadata": {},
   "outputs": [],
   "source": [
    "def command_s(directories):\n",
    "        number_of_doc=input('Введите номер документа:')\n",
    "        for key, value in directories.items():\n",
    "            if number_of_doc in value:\n",
    "                result=key\n",
    "                break\n",
    "            result='Данного документа нет в реестре'\n",
    "        return result,directories\n",
    "    "
   ]
  },
  {
   "cell_type": "code",
   "execution_count": null,
   "metadata": {},
   "outputs": [],
   "source": [
    "def command_l(documents):\n",
    "        result=''\n",
    "        for i in range(len(documents)):\n",
    "            for value in documents[i].values():\n",
    "                result+=\" \"+str(value)+\" \"\n",
    "            result+='\\n'\n",
    "        return result,documents"
   ]
  },
  {
   "cell_type": "code",
   "execution_count": null,
   "metadata": {},
   "outputs": [],
   "source": [
    "def command_as(directories):\n",
    "        number_of_shell=input('Введите номер полки, которую нужно добавить:')\n",
    "        directories[number_of_shell]=[]\n",
    "        result='Команда выполнена'\n",
    "        return result,directories"
   ]
  },
  {
   "cell_type": "code",
   "execution_count": null,
   "metadata": {},
   "outputs": [],
   "source": [
    "def command_d(directories):\n",
    "        number_of_doc=input('Введите название документа, который необходимо удалить:')\n",
    "        for key, value in directories.items():\n",
    "            if number_of_doc in value:\n",
    "                value.remove(number_of_doc)\n",
    "                result='Команда выполнена'\n",
    "                break\n",
    "            result='Данного документа нет в реестре'\n",
    "        for l in documents:\n",
    "            if l['number']==number_of_doc:\n",
    "                documents.remove(l)\n",
    "                break\n",
    "        return result,directories"
   ]
  },
  {
   "cell_type": "code",
   "execution_count": 9,
   "metadata": {},
   "outputs": [],
   "source": [
    "def command_m(directories):\n",
    "        number_of_doc=input('Введите номер документа:')\n",
    "        number_of_shell=input('Введите номер полки, на которую вы хотите переместить:')\n",
    "        for key,value in directories.items():\n",
    "            if number_of_shell not in directories:\n",
    "                result='Данной полки не существует'\n",
    "                break\n",
    "            if number_of_doc in value:\n",
    "                value.remove(number_of_doc)\n",
    "                directories[number_of_shell].append(number_of_doc)\n",
    "                result='Команда выполнена'\n",
    "                break\n",
    "            result=('Данного номера документа нет в реестре')\n",
    "        return result,directories"
   ]
  },
  {
   "cell_type": "code",
   "execution_count": 10,
   "metadata": {},
   "outputs": [],
   "source": [
    "def command_a(documents,directories):\n",
    "        number_of_shell=input('Введите номер полки:')\n",
    "        if number_of_shell not in directories.keys():\n",
    "            result='Данной полки не существует в реестре'\n",
    "        else:\n",
    "            form_dict=dict()\n",
    "            form_dict['type']=input('Введите тип документа:')\n",
    "            form_dict['number']=input('Введите номер документа:')\n",
    "            form_dict['name']=input('Введите имя владельца:')\n",
    "            documents.append(form_dict)\n",
    "            directories[number_of_shell].append(form_dict['number'])\n",
    "            result='Команда выполнена'  \n",
    "        return result,directories,documents\n"
   ]
  },
  {
   "cell_type": "code",
   "execution_count": 31,
   "metadata": {},
   "outputs": [],
   "source": [
    "def doing_command(name_of_command,documents,directories):\n",
    "    if name_of_command=='p':\n",
    "        result,documents=command_p(documents)\n",
    "    if name_of_command==\"s\":\n",
    "        result,directories=command_s(directories)\n",
    "    if name_of_command=='l':\n",
    "        result,documents=command_l(documents)\n",
    "    if name_of_command=='as':\n",
    "        result,directories=command_s(directories)\n",
    "    if name_of_command=='d':\n",
    "        result,directories=command_d(directories)\n",
    "    if name_of_command=='m':\n",
    "        result,directories=command_m(directories)   \n",
    "    if name_of_command=='a':\n",
    "        result,directories,documents=command_a(documents,directories)\n",
    "    return result,documents,directories"
   ]
  },
  {
   "cell_type": "code",
   "execution_count": 32,
   "metadata": {},
   "outputs": [],
   "source": [
    "documents = [\n",
    "    {'type': 'passport', 'number': '2207 876234', 'name': 'Василий Гупкин'},\n",
    "    {'type': 'invoice', 'number': '11-2', 'name': 'Геннадий Покемонов'},\n",
    "    {'type': 'insurance', 'number': '10006', 'name': 'Аристарх Павлов'}\n",
    "]"
   ]
  },
  {
   "cell_type": "code",
   "execution_count": null,
   "metadata": {},
   "outputs": [],
   "source": [
    "directories = {\n",
    "    '1': ['2207 876234', '11-2', '5455 028765'],\n",
    "    '2': ['10006', '5400 028765', '5455 002299'],\n",
    "    '3': []\n",
    "}"
   ]
  },
  {
   "cell_type": "markdown",
   "metadata": {},
   "source": [
    "Необходимо реализовать пользовательские команды (внимание! это не название функций, которые должны быть выразительными, а команды, которые вводит пользователь, чтобы получить необходимый результат):\n",
    "  \n",
    "- p – people – команда, которая спросит номер документа и выведет имя человека, которому он принадлежит;  \n",
    "- s – shelf – команда, которая спросит номер документа и выведет номер полки, на которой он находится  \n",
    "Правильно обработайте ситуацию, когда пользователь будет вводить несуществующий документ.\n",
    "- l – list – команда, которая выведет список всех документов в формате   \n",
    "**passport \"2207 876234\" \"Василий Гупкин\"**  \n",
    "- as – add shelf – команда, которая спросит номер новой полки и добавит ее в перечень\n",
    "- d – delete – команда, которая спросит номер документа и удалит его из каталога и из перечня полок. Предусмотрите сценарий, когда пользователь вводит несуществующий документ;  \n",
    "- m – move – команда, которая спросит номер документа и целевую полку и переместит его с текущей полки на целевую. Корректно обработайте кейсы, когда пользователь пытается переместить несуществующий документ или переместить документ на несуществующую полку;  \n",
    "- a – add – команда, которая добавит новый документ в каталог и в перечень полок, спросив его номер, тип, имя владельца и номер полки, на котором он будет храниться."
   ]
  },
  {
   "cell_type": "code",
   "execution_count": null,
   "metadata": {},
   "outputs": [],
   "source": [
    "name_of_command=input('Введите название команды, которую необходимо реализовать:')\n",
    "result,documents,directories=doing_command(name_of_command,documents,directories)\n",
    "print(result)"
   ]
  },
  {
   "cell_type": "code",
   "execution_count": null,
   "metadata": {},
   "outputs": [],
   "source": []
  }
 ],
 "metadata": {
  "kernelspec": {
   "display_name": "Python 3",
   "language": "python",
   "name": "python3"
  },
  "language_info": {
   "codemirror_mode": {
    "name": "ipython",
    "version": 3
   },
   "file_extension": ".py",
   "mimetype": "text/x-python",
   "name": "python",
   "nbconvert_exporter": "python",
   "pygments_lexer": "ipython3",
   "version": "3.7.4"
  }
 },
 "nbformat": 4,
 "nbformat_minor": 2
}
